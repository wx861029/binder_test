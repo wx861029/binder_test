{
 "cells": [
  {
   "cell_type": "code",
   "execution_count": null,
   "metadata": {},
   "outputs": [],
   "source": [
    "from bioservices import *\n",
    "from bioservices import NCBIblast\n",
    "from bioservices import KEGG\n",
    "import ipywidgets as widgets\n",
    "from IPython.display import display\n",
    "import time\n",
    "import pandas as pd\n",
    "from IPython.display import HTML"
   ]
  },
  {
   "cell_type": "code",
   "execution_count": null,
   "metadata": {},
   "outputs": [],
   "source": [
    "u = UniProt(verbose=False)\n",
    "s = NCBIblast(verbose=False)\n",
    "k = KEGG(verbose=False)"
   ]
  },
  {
   "cell_type": "code",
   "execution_count": null,
   "metadata": {},
   "outputs": [],
   "source": [
    "accession_number = widgets.Text(\n",
    "value='ZFP57',\n",
    "placeholder='ZFP57',\n",
    "description='Gene:',\n",
    "disabled=False)\n",
    "display(accession_number)"
   ]
  },
  {
   "cell_type": "code",
   "execution_count": null,
   "metadata": {
    "slideshow": {
     "slide_type": "slide"
    }
   },
   "outputs": [],
   "source": [
    "print(accession_number.value)\n",
    "res = u.search(accession_number.value, frmt=\"tab\")\n",
    "#print(res)\n",
    "headers = res.split(\"\\n\")[0].split(\"\\t\")\n",
    "rows = [i.split(\"\\t\") for i in res.split(\"\\n\")[1:]]\n",
    "#print(rows)\n",
    "df = pd.DataFrame(rows, columns=headers)\n",
    "df.head(10)"
   ]
  },
  {
   "cell_type": "code",
   "execution_count": null,
   "metadata": {},
   "outputs": [],
   "source": [
    "entity_name = widgets.Text(\n",
    "value='ZFP57_HUMAN',\n",
    "placeholder='ZFP57_HUMAN',\n",
    "description='Entity Name:',\n",
    "disabled=False)\n",
    "display(entity_name)"
   ]
  },
  {
   "cell_type": "code",
   "execution_count": null,
   "metadata": {},
   "outputs": [],
   "source": [
    "print(entity_name.value)\n",
    "sequence = u.retrieve(entity_name.value, \"fasta\")\n",
    "sequence = sequence.split(\"\\n\", 1)[1].strip(\"\\n\")\n",
    "print(sequence)"
   ]
  },
  {
   "cell_type": "code",
   "execution_count": null,
   "metadata": {},
   "outputs": [],
   "source": [
    "gkey = \"up:\"+accession_number.value\n",
    "geneid = k.conv(\"hsa\", gkey)\n",
    "print(geneid)\n"
   ]
  },
  {
   "cell_type": "code",
   "execution_count": null,
   "metadata": {},
   "outputs": [],
   "source": [
    "s1 = k.get_pathway_by_gene(geneid[gkey].replace(\"hsa:\", \"\"), \"hsa\")\n",
    "pws = gene_id[gkey].replace(\"hsa:\", \"\")\n",
    "print(pws)\n",
    "pdata = {'pathway':[],'description':[]}\n",
    "print(pdata)\n",
    "for i in range(len(s1)):\n",
    "    pdata['pathway'].append(s1[i])\n",
    "    pdata['description'].append(pws[i])\n",
    "pdf = pd.DataFrame(data=pdata)\n",
    "pdf.style"
   ]
  },
  {
   "cell_type": "code",
   "execution_count": null,
   "metadata": {},
   "outputs": [],
   "source": [
    "entity_name = widgets.Text(\n",
    "value='ZFP57_HUMAN',\n",
    "placeholder='ZFP57_HUMAN',\n",
    "description='Pathway:',\n",
    "disabled=False)\n",
    "display(entity_name)"
   ]
  },
  {
   "cell_type": "code",
   "execution_count": null,
   "metadata": {},
   "outputs": [],
   "source": [
    "src ='https://www.kegg.jp/kegg-bin/show_pathway?{0}/default%3dpink//{1}%09,red/'.format(selected_row_ids[0],gene_id)\n",
    "display.HTML(filename=src)"
   ]
  },
  {
   "cell_type": "code",
   "execution_count": null,
   "metadata": {},
   "outputs": [],
   "source": []
  }
 ],
 "metadata": {
  "kernelspec": {
   "display_name": "Python 3",
   "language": "python",
   "name": "python3"
  },
  "language_info": {
   "codemirror_mode": {
    "name": "ipython",
    "version": 3
   },
   "file_extension": ".py",
   "mimetype": "text/x-python",
   "name": "python",
   "nbconvert_exporter": "python",
   "pygments_lexer": "ipython3",
   "version": "3.8.3"
  }
 },
 "nbformat": 4,
 "nbformat_minor": 4
}
