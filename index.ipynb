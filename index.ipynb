{
 "cells": [
  {
   "cell_type": "code",
   "execution_count": 1,
   "metadata": {},
   "outputs": [
    {
     "name": "stderr",
     "output_type": "stream",
     "text": [
      "Using TensorFlow backend.\n"
     ]
    }
   ],
   "source": [
    "import keras\n",
    "from keras import layers\n",
    "from keras.datasets import mnist\n",
    "import numpy as np\n",
    "from sklearn import datasets\n",
    "from sklearn.datasets import load_digits\n",
    "import matplotlib.pyplot as plt\n",
    "import seaborn as sns\n",
    "from keras import regularizers\n",
    "import pandas as pd\n",
    "import tensorflow as tf"
   ]
  },
  {
   "cell_type": "code",
   "execution_count": 290,
   "metadata": {},
   "outputs": [
    {
     "data": {
      "text/plain": [
       "<keras.callbacks.callbacks.EarlyStopping at 0x242f03fd978>"
      ]
     },
     "execution_count": 290,
     "metadata": {},
     "output_type": "execute_result"
    }
   ],
   "source": [
    "keras.callbacks.EarlyStopping(monitor='val_loss',\n",
    "                              min_delta=0,\n",
    "                              patience=0,\n",
    "                              verbose=0, mode='auto')"
   ]
  },
  {
   "cell_type": "markdown",
   "metadata": {},
   "source": [
    "https://blog.keras.io/building-autoencoders-in-keras.html"
   ]
  },
  {
   "cell_type": "code",
   "execution_count": 5,
   "metadata": {},
   "outputs": [],
   "source": [
    "#\n",
    "input_img = keras.Input(shape=(28, 28, 1))\n",
    "\n",
    "x = layers.Conv2D(16, (3, 3), activation='relu', padding='same')(input_img)\n",
    "x = layers.MaxPooling2D((2, 2), padding='same')(x)\n",
    "x = layers.Conv2D(8, (3, 3), activation='relu', padding='same')(x)\n",
    "x = layers.MaxPooling2D((2, 2), padding='same')(x)\n",
    "x = layers.Conv2D(8, (3, 3), activation='relu', padding='same')(x)\n",
    "encoded = layers.MaxPooling2D((2, 2), padding='same')(x)\n",
    "\n",
    "# at this point the representation is (4, 4, 8) i.e. 128-dimensional\n",
    "\n",
    "x = layers.Conv2D(8, (3, 3), activation='relu', padding='same')(encoded)\n",
    "x = layers.UpSampling2D((2, 2))(x)\n",
    "x = layers.Conv2D(8, (3, 3), activation='relu', padding='same')(x)\n",
    "x = layers.UpSampling2D((2, 2))(x)\n",
    "x = layers.Conv2D(16, (3, 3), activation='relu')(x)\n",
    "x = layers.UpSampling2D((2, 2))(x)\n",
    "decoded = layers.Conv2D(1, (3, 3), activation='sigmoid', padding='same')(x)\n",
    "\n",
    "autoencoder = keras.Model(input_img, decoded)\n",
    "autoencoder.compile(optimizer='adam', loss='binary_crossentropy')"
   ]
  },
  {
   "cell_type": "code",
   "execution_count": null,
   "metadata": {},
   "outputs": [],
   "source": [
    "(x_train, _), (x_test, _) = mnist.load_data()\n",
    "\n",
    "x_train = x_train.astype('float32') / 255.\n",
    "x_test = x_test.astype('float32') / 255.\n",
    "x_train = np.reshape(x_train, (len(x_train), 28, 28, 1))\n",
    "x_test = np.reshape(x_test, (len(x_test), 28, 28, 1))"
   ]
  },
  {
   "cell_type": "code",
   "execution_count": null,
   "metadata": {},
   "outputs": [],
   "source": [
    "decoded_imgs = autoencoder.predict(x_test)\n",
    "\n",
    "n = 10\n",
    "plt.figure(figsize=(20, 4))\n",
    "for i in range(1, n + 1):\n",
    "    # Display original\n",
    "    ax = plt.subplot(2, n, i)\n",
    "    plt.imshow(x_test[i].reshape(28, 28))\n",
    "    plt.gray()\n",
    "    ax.get_xaxis().set_visible(False)\n",
    "    ax.get_yaxis().set_visible(False)\n",
    "\n",
    "    # Display reconstruction\n",
    "    ax = plt.subplot(2, n, i + n)\n",
    "    plt.imshow(decoded_imgs[i].reshape(28, 28))\n",
    "    plt.gray()\n",
    "    ax.get_xaxis().set_visible(False)\n",
    "    ax.get_yaxis().set_visible(False)\n",
    "plt.show()"
   ]
  },
  {
   "cell_type": "markdown",
   "metadata": {},
   "source": [
    "********************************"
   ]
  },
  {
   "cell_type": "code",
   "execution_count": 51,
   "metadata": {},
   "outputs": [],
   "source": [
    "input_img = keras.Input(shape=(8, 8, 1))\n",
    "x = layers.Conv2D(8, (2, 2), activation='relu', padding='same')(input_img)\n",
    "x = layers.MaxPooling2D((1, 1), padding='same')(x)\n",
    "x = layers.Conv2D(6, (1, 1), activation='relu', padding='same')(x)\n",
    "x = layers.MaxPooling2D((1, 1), padding='same')(x)\n",
    "x = layers.Conv2D(6, (1, 1), activation='relu', padding='same')(x)\n",
    "encoded = layers.MaxPooling2D((1, 1), padding='same')(x)\n",
    "\n",
    "# at this point the representation is (4, 4, 8) i.e. 128-dimensional\n",
    "\n",
    "x = layers.Conv2D(6, (1, 1), activation='relu', padding='same')(encoded)\n",
    "x = layers.UpSampling2D((1, 1))(x)\n",
    "x = layers.Conv2D(6, (1, 1), activation='relu', padding='same')(x)\n",
    "x = layers.UpSampling2D((1, 1))(x)\n",
    "x = layers.Conv2D(8, (2, 2), activation='relu', padding='same')(x)\n",
    "x = layers.UpSampling2D((2, 2))(x)\n",
    "decoded = layers.Conv2D(1, (1, 1), activation='sigmoid', padding='same')(x)\n",
    "\n",
    "autoencoder = keras.Model(input_img, decoded)\n",
    "autoencoder.compile(optimizer='adam', loss='binary_crossentropy')"
   ]
  },
  {
   "cell_type": "code",
   "execution_count": 14,
   "metadata": {},
   "outputs": [],
   "source": [
    "digits = load_digits()"
   ]
  },
  {
   "cell_type": "code",
   "execution_count": 15,
   "metadata": {},
   "outputs": [
    {
     "data": {
      "text/plain": [
       "(1797, 64)"
      ]
     },
     "execution_count": 15,
     "metadata": {},
     "output_type": "execute_result"
    }
   ],
   "source": [
    "digits.data.shape"
   ]
  },
  {
   "cell_type": "code",
   "execution_count": 17,
   "metadata": {},
   "outputs": [],
   "source": [
    "digits = load_digits()\n",
    "x_train, y = digits.data, digits.target\n",
    "\n",
    "x_train = x_train.astype('float32') / 255.\n",
    "x_test = x_train.astype('float32') / 255.\n",
    "x_train = np.reshape(x_train, (len(x_train), 8, 8, 1))\n",
    "x_test = np.reshape(x_train, (len(x_test), 8, 8, 1))"
   ]
  },
  {
   "cell_type": "code",
   "execution_count": 52,
   "metadata": {},
   "outputs": [
    {
     "name": "stdout",
     "output_type": "stream",
     "text": [
      "Train on 1797 samples, validate on 1797 samples\n",
      "Epoch 1/50\n",
      "1797/1797 [==============================] - 1s 306us/step - loss: 0.6877 - val_loss: 0.6808\n",
      "Epoch 2/50\n",
      "1797/1797 [==============================] - 0s 138us/step - loss: 0.6741 - val_loss: 0.6654\n",
      "Epoch 3/50\n",
      "1797/1797 [==============================] - 0s 153us/step - loss: 0.6564 - val_loss: 0.6444\n",
      "Epoch 4/50\n",
      "1797/1797 [==============================] - 0s 159us/step - loss: 0.6316 - val_loss: 0.6144\n",
      "Epoch 5/50\n",
      "1797/1797 [==============================] - 0s 136us/step - loss: 0.5964 - val_loss: 0.5728\n",
      "Epoch 6/50\n",
      "1797/1797 [==============================] - 0s 141us/step - loss: 0.5492 - val_loss: 0.5191\n",
      "Epoch 7/50\n",
      "1797/1797 [==============================] - 0s 154us/step - loss: 0.4905 - val_loss: 0.4553\n",
      "Epoch 8/50\n",
      "1797/1797 [==============================] - 0s 166us/step - loss: 0.4242 - val_loss: 0.3872\n",
      "Epoch 9/50\n",
      "1797/1797 [==============================] - 0s 151us/step - loss: 0.3571 - val_loss: 0.3228\n",
      "Epoch 10/50\n",
      "1797/1797 [==============================] - 0s 155us/step - loss: 0.2970 - val_loss: 0.2687\n",
      "Epoch 11/50\n",
      "1797/1797 [==============================] - 0s 156us/step - loss: 0.2490 - val_loss: 0.2280\n",
      "Epoch 12/50\n",
      "1797/1797 [==============================] - 0s 144us/step - loss: 0.2141 - val_loss: 0.1996\n",
      "Epoch 13/50\n",
      "1797/1797 [==============================] - 0s 139us/step - loss: 0.1903 - val_loss: 0.1807\n",
      "Epoch 14/50\n",
      "1797/1797 [==============================] - 0s 141us/step - loss: 0.1746 - val_loss: 0.1680\n",
      "Epoch 15/50\n",
      "1797/1797 [==============================] - 0s 257us/step - loss: 0.1633 - val_loss: 0.1584\n",
      "Epoch 16/50\n",
      "1797/1797 [==============================] - 0s 196us/step - loss: 0.1548 - val_loss: 0.1508\n",
      "Epoch 17/50\n",
      "1797/1797 [==============================] - 0s 176us/step - loss: 0.1479 - val_loss: 0.1446\n",
      "Epoch 18/50\n",
      "1797/1797 [==============================] - 0s 160us/step - loss: 0.1421 - val_loss: 0.1393\n",
      "Epoch 19/50\n",
      "1797/1797 [==============================] - 0s 134us/step - loss: 0.1372 - val_loss: 0.1347\n",
      "Epoch 20/50\n",
      "1797/1797 [==============================] - 0s 190us/step - loss: 0.1329 - val_loss: 0.1308\n",
      "Epoch 21/50\n",
      "1797/1797 [==============================] - 0s 168us/step - loss: 0.1292 - val_loss: 0.1273\n",
      "Epoch 22/50\n",
      "1797/1797 [==============================] - 0s 150us/step - loss: 0.1258 - val_loss: 0.1241\n",
      "Epoch 23/50\n",
      "1797/1797 [==============================] - 0s 140us/step - loss: 0.1228 - val_loss: 0.1213\n",
      "Epoch 24/50\n",
      "1797/1797 [==============================] - 0s 159us/step - loss: 0.1201 - val_loss: 0.1188\n",
      "Epoch 25/50\n",
      "1797/1797 [==============================] - 0s 160us/step - loss: 0.1178 - val_loss: 0.1167\n",
      "Epoch 26/50\n",
      "1797/1797 [==============================] - 0s 151us/step - loss: 0.1159 - val_loss: 0.1149\n",
      "Epoch 27/50\n",
      "1797/1797 [==============================] - 0s 177us/step - loss: 0.1142 - val_loss: 0.1134\n",
      "Epoch 28/50\n",
      "1797/1797 [==============================] - 0s 191us/step - loss: 0.1129 - val_loss: 0.1122\n",
      "Epoch 29/50\n",
      "1797/1797 [==============================] - 0s 140us/step - loss: 0.1117 - val_loss: 0.1112\n",
      "Epoch 30/50\n",
      "1797/1797 [==============================] - 0s 137us/step - loss: 0.1108 - val_loss: 0.1103\n",
      "Epoch 31/50\n",
      "1797/1797 [==============================] - 0s 190us/step - loss: 0.1099 - val_loss: 0.1095\n",
      "Epoch 32/50\n",
      "1797/1797 [==============================] - 0s 170us/step - loss: 0.1092 - val_loss: 0.1088\n",
      "Epoch 33/50\n",
      "1797/1797 [==============================] - 0s 144us/step - loss: 0.1086 - val_loss: 0.1082\n",
      "Epoch 34/50\n",
      "1797/1797 [==============================] - 0s 140us/step - loss: 0.1080 - val_loss: 0.1077\n",
      "Epoch 35/50\n",
      "1797/1797 [==============================] - 0s 179us/step - loss: 0.1075 - val_loss: 0.1072\n",
      "Epoch 36/50\n",
      "1797/1797 [==============================] - 0s 144us/step - loss: 0.1070 - val_loss: 0.1067\n",
      "Epoch 37/50\n",
      "1797/1797 [==============================] - 0s 181us/step - loss: 0.1065 - val_loss: 0.1063\n",
      "Epoch 38/50\n",
      "1797/1797 [==============================] - 0s 175us/step - loss: 0.1061 - val_loss: 0.1058\n",
      "Epoch 39/50\n",
      "1797/1797 [==============================] - 0s 150us/step - loss: 0.1056 - val_loss: 0.1054\n",
      "Epoch 40/50\n",
      "1797/1797 [==============================] - 0s 186us/step - loss: 0.1052 - val_loss: 0.1050\n",
      "Epoch 41/50\n",
      "1797/1797 [==============================] - 0s 208us/step - loss: 0.1048 - val_loss: 0.1046\n",
      "Epoch 42/50\n",
      "1797/1797 [==============================] - 0s 173us/step - loss: 0.1044 - val_loss: 0.1042\n",
      "Epoch 43/50\n",
      "1797/1797 [==============================] - 0s 161us/step - loss: 0.1041 - val_loss: 0.1039\n",
      "Epoch 44/50\n",
      "1797/1797 [==============================] - 0s 167us/step - loss: 0.1037 - val_loss: 0.1035\n",
      "Epoch 45/50\n",
      "1797/1797 [==============================] - 0s 174us/step - loss: 0.1033 - val_loss: 0.1031\n",
      "Epoch 46/50\n",
      "1797/1797 [==============================] - 0s 190us/step - loss: 0.1030 - val_loss: 0.1028\n",
      "Epoch 47/50\n",
      "1797/1797 [==============================] - 0s 271us/step - loss: 0.1026 - val_loss: 0.1024\n",
      "Epoch 48/50\n",
      "1797/1797 [==============================] - 0s 250us/step - loss: 0.1023 - val_loss: 0.1021\n",
      "Epoch 49/50\n",
      "1797/1797 [==============================] - 0s 254us/step - loss: 0.1019 - val_loss: 0.1018\n",
      "Epoch 50/50\n",
      "1797/1797 [==============================] - 0s 218us/step - loss: 0.1016 - val_loss: 0.1014\n"
     ]
    },
    {
     "data": {
      "text/plain": [
       "<keras.callbacks.callbacks.History at 0x29c6e83edd8>"
      ]
     },
     "execution_count": 52,
     "metadata": {},
     "output_type": "execute_result"
    }
   ],
   "source": [
    "autoencoder.fit(x_train, x_train,\n",
    "                epochs=50,\n",
    "                batch_size=150,\n",
    "                shuffle=True,\n",
    "                validation_data=(x_test, x_test))"
   ]
  },
  {
   "cell_type": "code",
   "execution_count": 53,
   "metadata": {
    "scrolled": false
   },
   "outputs": [
    {
     "data": {
      "image/png": "[encoded data removed]",
      "text/plain": [
       "<Figure size 1440x288 with 20 Axes>"
      ]
     },
     "metadata": {
      "needs_background": "light"
     },
     "output_type": "display_data"
    }
   ],
   "source": [
    "decoded_imgs = autoencoder.predict(x_test)\n",
    "\n",
    "n = 10\n",
    "plt.figure(figsize=(20, 4))\n",
    "for i in range(1, n + 1):\n",
    "    # Display original\n",
    "    ax = plt.subplot(2, n, i)\n",
    "    plt.imshow(x_test[i].reshape(8, 8))\n",
    "    plt.gray()\n",
    "    ax.get_xaxis().set_visible(False)\n",
    "    ax.get_yaxis().set_visible(False)\n",
    "\n",
    "    # Display reconstruction\n",
    "    ax = plt.subplot(2, n, i + n)\n",
    "    plt.imshow(decoded_imgs[i].reshape(8, 8))\n",
    "    plt.gray()\n",
    "    ax.get_xaxis().set_visible(False)\n",
    "    ax.get_yaxis().set_visible(False)\n",
    "plt.show()"
   ]
  },
  {
   "cell_type": "code",
   "execution_count": 49,
   "metadata": {
    "scrolled": true
   },
   "outputs": [
    {
     "name": "stdout",
     "output_type": "stream",
     "text": [
      "0\n",
      "1\n",
      "2\n",
      "3\n",
      "4\n",
      "5\n",
      "6\n",
      "7\n",
      "8\n",
      "9\n"
     ]
    },
    {
     "data": {
      "image/png": "[encoded data removed]",
      "text/plain": [
       "<Figure size 1440x288 with 20 Axes>"
      ]
     },
     "metadata": {
      "needs_background": "light"
     },
     "output_type": "display_data"
    }
   ],
   "source": [
    "\n",
    "n = 10  # How many digits we will display\n",
    "plt.figure(figsize=(20, 4))\n",
    "for i in range(n):\n",
    "    print(y[i])\n",
    "    # Display original\n",
    "    ax = plt.subplot(2, n, i + 1)\n",
    "    plt.imshow((x_test[i]).reshape(8, 8))\n",
    "    plt.gray()\n",
    "    ax.get_xaxis().set_visible(False)\n",
    "    ax.get_yaxis().set_visible(False)\n",
    "\n",
    "    # Display reconstruction\n",
    "    ax = plt.subplot(2, n, i + 1 + n)\n",
    "    plt.imshow((predict_imgs[i]).reshape(8, 8))\n",
    "    plt.gray()\n",
    "    ax.get_xaxis().set_visible(False)\n",
    "    ax.get_yaxis().set_visible(False)\n",
    "plt.show()"
   ]
  },
  {
   "cell_type": "code",
   "execution_count": 46,
   "metadata": {},
   "outputs": [],
   "source": [
    "def scatter_plot(x, y, title):# two dimension plot\n",
    "    fig = plt.figure(figsize=(15, 3))\n",
    "    fig.subplots_adjust(left=0.02, right=0.98, bottom=0.05, top=0.9)\n",
    "    plt.subplot(1, 2, 1)\n",
    "    plt.scatter(\n",
    "    x[:, 0],\n",
    "    x[:, 1],\n",
    "    marker=\".\",\n",
    "    color='w',\n",
    "    edgecolors=[sns.color_palette(n_colors=15)[j] for j in y]\n",
    "    )\n",
    "    plt.title(title, fontsize=10)\n"
   ]
  },
  {
   "cell_type": "markdown",
   "metadata": {},
   "source": [
    "***********************************************"
   ]
  },
  {
   "cell_type": "code",
   "execution_count": 34,
   "metadata": {},
   "outputs": [],
   "source": [
    "# This is the size of our encoded representations\n",
    "encoding_dim = 8  # 32 floats -> compression of factor 24.5, assuming the input is 784 floats\n",
    "\n",
    "# This is our input image\n",
    "input_img = keras.Input(shape=(64,))\n",
    "# \"encoded\" is the encoded representation of the input\n",
    "x = layers.Dense(32, activation='selu')(input_img)\n",
    "x = layers.Dense(16, activation='selu')(x)\n",
    "encoded = layers.Dense(encoding_dim, activation='relu')(x)\n",
    "# \"decoded\" is the lossy reconstruction of the input\n",
    "x = layers.Dense(16, activation='selu')(encoded)\n",
    "x = layers.Dense(32, activation='selu')(x)\n",
    "decoded = layers.Dense(64, activation='sigmoid')(x)\n",
    "\n",
    "# This model maps an input to its reconstruction\n",
    "autoencoder = keras.Model(input_img, decoded)"
   ]
  },
  {
   "cell_type": "code",
   "execution_count": 35,
   "metadata": {},
   "outputs": [],
   "source": [
    "# This model maps an input to its encoded representation\n",
    "encoder = keras.Model(input_img, encoded)"
   ]
  },
  {
   "cell_type": "code",
   "execution_count": 43,
   "metadata": {},
   "outputs": [],
   "source": [
    "#opt = tf.keras.optimizers.Adam(learning_rate=0.00005)\n",
    "#autoencoder.compile(optimizer=opt, loss='binary_crossentropy')\n",
    "autoencoder.compile(optimizer='adam', loss='binary_crossentropy')"
   ]
  },
  {
   "cell_type": "code",
   "execution_count": 6,
   "metadata": {},
   "outputs": [],
   "source": [
    "digits = load_digits()\n",
    "#digits = datasets.load_iris()\n",
    "x_train, y = digits.data, digits.target\n",
    "\n",
    "x_train = x_train.astype('float32') / 255.\n",
    "x_test = x_train.astype('float32') / 255.\n",
    "#x_train = np.reshape(x_train, (len(x_train), 8, 8, 1))\n",
    "#x_test = np.reshape(x_train, (len(x_test), 8, 8, 1))"
   ]
  },
  {
   "cell_type": "code",
   "execution_count": 521,
   "metadata": {},
   "outputs": [],
   "source": [
    "callbacks = [\n",
    "    keras.callbacks.EarlyStopping(monitor='val_loss', patience=5, verbose=1),\n",
    "]"
   ]
  },
  {
   "cell_type": "code",
   "execution_count": 45,
   "metadata": {},
   "outputs": [
    {
     "name": "stdout",
     "output_type": "stream",
     "text": [
      "Train on 1797 samples, validate on 1797 samples\n",
      "Epoch 1/100\n",
      "1797/1797 [==============================] - 0s 19us/step - loss: 0.0831 - val_loss: 0.0157\n",
      "Epoch 2/100\n",
      "1797/1797 [==============================] - 0s 27us/step - loss: 0.0830 - val_loss: 0.0160\n",
      "Epoch 3/100\n",
      "1797/1797 [==============================] - 0s 25us/step - loss: 0.0830 - val_loss: 0.0158\n",
      "Epoch 4/100\n",
      "1797/1797 [==============================] - 0s 28us/step - loss: 0.0830 - val_loss: 0.0157\n",
      "Epoch 5/100\n",
      "1797/1797 [==============================] - 0s 27us/step - loss: 0.0830 - val_loss: 0.0160\n",
      "Epoch 6/100\n",
      "1797/1797 [==============================] - 0s 28us/step - loss: 0.0830 - val_loss: 0.0160\n",
      "Epoch 7/100\n",
      "1797/1797 [==============================] - 0s 31us/step - loss: 0.0829 - val_loss: 0.0158\n",
      "Epoch 8/100\n",
      "1797/1797 [==============================] - 0s 27us/step - loss: 0.0829 - val_loss: 0.0160\n",
      "Epoch 9/100\n",
      "1797/1797 [==============================] - 0s 27us/step - loss: 0.0829 - val_loss: 0.0160\n",
      "Epoch 10/100\n",
      "1797/1797 [==============================] - 0s 23us/step - loss: 0.0829 - val_loss: 0.0160\n",
      "Epoch 11/100\n",
      "1797/1797 [==============================] - 0s 29us/step - loss: 0.0829 - val_loss: 0.0160\n",
      "Epoch 12/100\n",
      "1797/1797 [==============================] - 0s 32us/step - loss: 0.0829 - val_loss: 0.0161\n",
      "Epoch 13/100\n",
      "1797/1797 [==============================] - 0s 29us/step - loss: 0.0829 - val_loss: 0.0160\n",
      "Epoch 14/100\n",
      "1797/1797 [==============================] - 0s 38us/step - loss: 0.0828 - val_loss: 0.0162\n",
      "Epoch 15/100\n",
      "1797/1797 [==============================] - 0s 30us/step - loss: 0.0828 - val_loss: 0.0163\n",
      "Epoch 16/100\n",
      "1797/1797 [==============================] - 0s 26us/step - loss: 0.0828 - val_loss: 0.0162\n",
      "Epoch 17/100\n",
      "1797/1797 [==============================] - 0s 33us/step - loss: 0.0828 - val_loss: 0.0163\n",
      "Epoch 18/100\n",
      "1797/1797 [==============================] - 0s 29us/step - loss: 0.0828 - val_loss: 0.0164\n",
      "Epoch 19/100\n",
      "1797/1797 [==============================] - 0s 32us/step - loss: 0.0828 - val_loss: 0.0165\n",
      "Epoch 20/100\n",
      "1797/1797 [==============================] - 0s 30us/step - loss: 0.0828 - val_loss: 0.0165\n",
      "Epoch 21/100\n",
      "1797/1797 [==============================] - 0s 33us/step - loss: 0.0828 - val_loss: 0.0165\n",
      "Epoch 22/100\n",
      "1797/1797 [==============================] - 0s 29us/step - loss: 0.0828 - val_loss: 0.0166\n",
      "Epoch 23/100\n",
      "1797/1797 [==============================] - 0s 41us/step - loss: 0.0827 - val_loss: 0.0166\n",
      "Epoch 24/100\n",
      "1797/1797 [==============================] - 0s 22us/step - loss: 0.0827 - val_loss: 0.0165\n",
      "Epoch 25/100\n",
      "1797/1797 [==============================] - 0s 21us/step - loss: 0.0827 - val_loss: 0.0164\n",
      "Epoch 26/100\n",
      "1797/1797 [==============================] - 0s 22us/step - loss: 0.0827 - val_loss: 0.0162\n",
      "Epoch 27/100\n",
      "1797/1797 [==============================] - 0s 27us/step - loss: 0.0827 - val_loss: 0.0161\n",
      "Epoch 28/100\n",
      "1797/1797 [==============================] - 0s 27us/step - loss: 0.0827 - val_loss: 0.0160\n",
      "Epoch 29/100\n",
      "1797/1797 [==============================] - 0s 28us/step - loss: 0.0827 - val_loss: 0.0159\n",
      "Epoch 30/100\n",
      "1797/1797 [==============================] - 0s 24us/step - loss: 0.0827 - val_loss: 0.0157\n",
      "Epoch 31/100\n",
      "1797/1797 [==============================] - 0s 28us/step - loss: 0.0827 - val_loss: 0.0156\n",
      "Epoch 32/100\n",
      "1797/1797 [==============================] - 0s 22us/step - loss: 0.0826 - val_loss: 0.0154\n",
      "Epoch 33/100\n",
      "1797/1797 [==============================] - 0s 28us/step - loss: 0.0826 - val_loss: 0.0153\n",
      "Epoch 34/100\n",
      "1797/1797 [==============================] - 0s 26us/step - loss: 0.0826 - val_loss: 0.0152\n",
      "Epoch 35/100\n",
      "1797/1797 [==============================] - 0s 38us/step - loss: 0.0826 - val_loss: 0.0150\n",
      "Epoch 36/100\n",
      "1797/1797 [==============================] - 0s 24us/step - loss: 0.0826 - val_loss: 0.0148\n",
      "Epoch 37/100\n",
      "1797/1797 [==============================] - 0s 29us/step - loss: 0.0826 - val_loss: 0.0146\n",
      "Epoch 38/100\n",
      "1797/1797 [==============================] - 0s 24us/step - loss: 0.0826 - val_loss: 0.0144\n",
      "Epoch 39/100\n",
      "1797/1797 [==============================] - 0s 26us/step - loss: 0.0826 - val_loss: 0.0142\n",
      "Epoch 40/100\n",
      "1797/1797 [==============================] - 0s 19us/step - loss: 0.0826 - val_loss: 0.0140\n",
      "Epoch 41/100\n",
      "1797/1797 [==============================] - 0s 26us/step - loss: 0.0826 - val_loss: 0.0137\n",
      "Epoch 42/100\n",
      "1797/1797 [==============================] - 0s 29us/step - loss: 0.0825 - val_loss: 0.0136\n",
      "Epoch 43/100\n",
      "1797/1797 [==============================] - 0s 34us/step - loss: 0.0825 - val_loss: 0.0133\n",
      "Epoch 44/100\n",
      "1797/1797 [==============================] - 0s 21us/step - loss: 0.0825 - val_loss: 0.0131\n",
      "Epoch 45/100\n",
      "1797/1797 [==============================] - 0s 32us/step - loss: 0.0825 - val_loss: 0.0129\n",
      "Epoch 46/100\n",
      "1797/1797 [==============================] - 0s 31us/step - loss: 0.0825 - val_loss: 0.0126\n",
      "Epoch 47/100\n",
      "1797/1797 [==============================] - ETA: 0s - loss: 0.082 - 0s 30us/step - loss: 0.0825 - val_loss: 0.0123\n",
      "Epoch 48/100\n",
      "1797/1797 [==============================] - 0s 29us/step - loss: 0.0825 - val_loss: 0.0122\n",
      "Epoch 49/100\n",
      "1797/1797 [==============================] - 0s 31us/step - loss: 0.0825 - val_loss: 0.0120\n",
      "Epoch 50/100\n",
      "1797/1797 [==============================] - 0s 23us/step - loss: 0.0825 - val_loss: 0.0117\n",
      "Epoch 51/100\n",
      "1797/1797 [==============================] - 0s 28us/step - loss: 0.0825 - val_loss: 0.0115\n",
      "Epoch 52/100\n",
      "1797/1797 [==============================] - 0s 32us/step - loss: 0.0825 - val_loss: 0.0113\n",
      "Epoch 53/100\n",
      "1797/1797 [==============================] - 0s 32us/step - loss: 0.0824 - val_loss: 0.0111\n",
      "Epoch 54/100\n",
      "1797/1797 [==============================] - 0s 19us/step - loss: 0.0824 - val_loss: 0.0109\n",
      "Epoch 55/100\n",
      "1797/1797 [==============================] - 0s 29us/step - loss: 0.0824 - val_loss: 0.0107\n",
      "Epoch 56/100\n",
      "1797/1797 [==============================] - 0s 28us/step - loss: 0.0824 - val_loss: 0.0106\n",
      "Epoch 57/100\n",
      "1797/1797 [==============================] - 0s 28us/step - loss: 0.0824 - val_loss: 0.0103\n",
      "Epoch 58/100\n",
      "1797/1797 [==============================] - 0s 24us/step - loss: 0.0824 - val_loss: 0.0102\n",
      "Epoch 59/100\n",
      "1797/1797 [==============================] - 0s 23us/step - loss: 0.0824 - val_loss: 0.0101\n",
      "Epoch 60/100\n",
      "1797/1797 [==============================] - 0s 33us/step - loss: 0.0824 - val_loss: 0.0100\n",
      "Epoch 61/100\n",
      "1797/1797 [==============================] - 0s 19us/step - loss: 0.0824 - val_loss: 0.0099\n",
      "Epoch 62/100\n",
      "1797/1797 [==============================] - 0s 26us/step - loss: 0.0824 - val_loss: 0.0098\n",
      "Epoch 63/100\n",
      "1797/1797 [==============================] - 0s 24us/step - loss: 0.0824 - val_loss: 0.0098\n",
      "Epoch 64/100\n",
      "1797/1797 [==============================] - 0s 23us/step - loss: 0.0824 - val_loss: 0.0097\n",
      "Epoch 65/100\n",
      "1797/1797 [==============================] - 0s 21us/step - loss: 0.0824 - val_loss: 0.0096\n",
      "Epoch 66/100\n",
      "1797/1797 [==============================] - 0s 28us/step - loss: 0.0824 - val_loss: 0.0095\n",
      "Epoch 67/100\n",
      "1797/1797 [==============================] - 0s 20us/step - loss: 0.0823 - val_loss: 0.0094\n",
      "Epoch 68/100\n",
      "1797/1797 [==============================] - 0s 21us/step - loss: 0.0823 - val_loss: 0.0094\n",
      "Epoch 69/100\n",
      "1797/1797 [==============================] - 0s 27us/step - loss: 0.0823 - val_loss: 0.0093\n",
      "Epoch 70/100\n",
      "1797/1797 [==============================] - 0s 24us/step - loss: 0.0823 - val_loss: 0.0092\n",
      "Epoch 71/100\n",
      "1797/1797 [==============================] - 0s 24us/step - loss: 0.0823 - val_loss: 0.0092\n",
      "Epoch 72/100\n",
      "1797/1797 [==============================] - 0s 22us/step - loss: 0.0823 - val_loss: 0.0091\n",
      "Epoch 73/100\n",
      "1797/1797 [==============================] - 0s 24us/step - loss: 0.0823 - val_loss: 0.0091\n",
      "Epoch 74/100\n",
      "1797/1797 [==============================] - 0s 24us/step - loss: 0.0823 - val_loss: 0.0090\n",
      "Epoch 75/100\n",
      "1797/1797 [==============================] - 0s 23us/step - loss: 0.0823 - val_loss: 0.0090\n",
      "Epoch 76/100\n",
      "1797/1797 [==============================] - 0s 23us/step - loss: 0.0823 - val_loss: 0.0090\n",
      "Epoch 77/100\n",
      "1797/1797 [==============================] - 0s 25us/step - loss: 0.0823 - val_loss: 0.0089\n",
      "Epoch 78/100\n"
     ]
    },
    {
     "name": "stdout",
     "output_type": "stream",
     "text": [
      "1797/1797 [==============================] - 0s 25us/step - loss: 0.0823 - val_loss: 0.0089\n",
      "Epoch 79/100\n",
      "1797/1797 [==============================] - 0s 24us/step - loss: 0.0823 - val_loss: 0.0089\n",
      "Epoch 80/100\n",
      "1797/1797 [==============================] - 0s 24us/step - loss: 0.0823 - val_loss: 0.0089\n",
      "Epoch 81/100\n",
      "1797/1797 [==============================] - 0s 25us/step - loss: 0.0823 - val_loss: 0.0089\n",
      "Epoch 82/100\n",
      "1797/1797 [==============================] - 0s 29us/step - loss: 0.0823 - val_loss: 0.0088\n",
      "Epoch 83/100\n",
      "1797/1797 [==============================] - 0s 31us/step - loss: 0.0823 - val_loss: 0.0088\n",
      "Epoch 84/100\n",
      "1797/1797 [==============================] - 0s 21us/step - loss: 0.0823 - val_loss: 0.0087\n",
      "Epoch 85/100\n",
      "1797/1797 [==============================] - 0s 19us/step - loss: 0.0823 - val_loss: 0.0088\n",
      "Epoch 86/100\n",
      "1797/1797 [==============================] - ETA: 0s - loss: 0.082 - 0s 23us/step - loss: 0.0823 - val_loss: 0.0087\n",
      "Epoch 87/100\n",
      "1797/1797 [==============================] - 0s 19us/step - loss: 0.0823 - val_loss: 0.0088\n",
      "Epoch 88/100\n",
      "1797/1797 [==============================] - 0s 21us/step - loss: 0.0823 - val_loss: 0.0087\n",
      "Epoch 89/100\n",
      "1797/1797 [==============================] - 0s 23us/step - loss: 0.0823 - val_loss: 0.0087\n",
      "Epoch 90/100\n",
      "1797/1797 [==============================] - 0s 22us/step - loss: 0.0822 - val_loss: 0.0087\n",
      "Epoch 91/100\n",
      "1797/1797 [==============================] - 0s 22us/step - loss: 0.0822 - val_loss: 0.0087\n",
      "Epoch 92/100\n",
      "1797/1797 [==============================] - 0s 19us/step - loss: 0.0822 - val_loss: 0.0087\n",
      "Epoch 93/100\n",
      "1797/1797 [==============================] - 0s 23us/step - loss: 0.0822 - val_loss: 0.0087\n",
      "Epoch 94/100\n",
      "1797/1797 [==============================] - 0s 23us/step - loss: 0.0822 - val_loss: 0.0086\n",
      "Epoch 95/100\n",
      "1797/1797 [==============================] - 0s 24us/step - loss: 0.0822 - val_loss: 0.0087\n",
      "Epoch 96/100\n",
      "1797/1797 [==============================] - 0s 28us/step - loss: 0.0822 - val_loss: 0.0086\n",
      "Epoch 97/100\n",
      "1797/1797 [==============================] - 0s 26us/step - loss: 0.0822 - val_loss: 0.0086\n",
      "Epoch 98/100\n",
      "1797/1797 [==============================] - 0s 22us/step - loss: 0.0822 - val_loss: 0.0087\n",
      "Epoch 99/100\n",
      "1797/1797 [==============================] - 0s 26us/step - loss: 0.0822 - val_loss: 0.0087\n",
      "Epoch 100/100\n",
      "1797/1797 [==============================] - 0s 27us/step - loss: 0.0822 - val_loss: 0.0086\n"
     ]
    },
    {
     "data": {
      "text/plain": [
       "<keras.callbacks.callbacks.History at 0x18d46ae1b70>"
      ]
     },
     "execution_count": 45,
     "metadata": {},
     "output_type": "execute_result"
    }
   ],
   "source": [
    "#autoencoder.fit(x_train, x_train,\n",
    "#                epochs=100,\n",
    "#                batch_size=256,\n",
    "#                shuffle=True,\n",
    "#                validation_data=(x_test, x_test),callbacks=callbacks)\n",
    "autoencoder.fit(x_train, x_train,\n",
    "                epochs=100,\n",
    "                batch_size=512,\n",
    "                shuffle=True,\n",
    "                validation_data=(x_test, x_test))"
   ]
  },
  {
   "cell_type": "code",
   "execution_count": 46,
   "metadata": {},
   "outputs": [],
   "source": [
    "# Encode and decode some digits\n",
    "# Note that we take them from the *test* set\n",
    "encoded_imgs = encoder.predict(x_test)\n",
    "#decoded_imgs = decoder.predict(encoded_imgs)\n",
    "predict_imgs = autoencoder.predict(x_test)"
   ]
  },
  {
   "cell_type": "code",
   "execution_count": 40,
   "metadata": {},
   "outputs": [
    {
     "data": {
      "text/plain": [
       "array([[0.0000000e+00, 0.0000000e+00, 7.6893506e-05, ..., 0.0000000e+00,\n",
       "        0.0000000e+00, 0.0000000e+00],\n",
       "       [0.0000000e+00, 0.0000000e+00, 0.0000000e+00, ..., 1.5378701e-04,\n",
       "        0.0000000e+00, 0.0000000e+00],\n",
       "       [0.0000000e+00, 0.0000000e+00, 0.0000000e+00, ..., 2.4605924e-04,\n",
       "        1.3840832e-04, 0.0000000e+00],\n",
       "       ...,\n",
       "       [0.0000000e+00, 0.0000000e+00, 1.5378702e-05, ..., 9.2272203e-05,\n",
       "        0.0000000e+00, 0.0000000e+00],\n",
       "       [0.0000000e+00, 0.0000000e+00, 3.0757405e-05, ..., 1.8454441e-04,\n",
       "        0.0000000e+00, 0.0000000e+00],\n",
       "       [0.0000000e+00, 0.0000000e+00, 1.5378701e-04, ..., 1.8454441e-04,\n",
       "        1.5378702e-05, 0.0000000e+00]], dtype=float32)"
      ]
     },
     "execution_count": 40,
     "metadata": {},
     "output_type": "execute_result"
    }
   ],
   "source": [
    "x_test"
   ]
  },
  {
   "cell_type": "code",
   "execution_count": 47,
   "metadata": {},
   "outputs": [
    {
     "data": {
      "text/plain": [
       "array([[3.69413087e-08, 1.26657178e-04, 5.54106291e-03, ...,\n",
       "        5.05565712e-03, 2.49028002e-04, 1.32263049e-05],\n",
       "       [3.69047548e-08, 1.28122250e-04, 5.50210709e-03, ...,\n",
       "        5.09212073e-03, 2.53017613e-04, 1.35037180e-05],\n",
       "       [3.69924997e-08, 1.28165615e-04, 5.50359208e-03, ...,\n",
       "        5.11575257e-03, 2.54968734e-04, 1.36016342e-05],\n",
       "       ...,\n",
       "       [3.70947362e-08, 1.27993175e-04, 5.51608903e-03, ...,\n",
       "        5.09469165e-03, 2.53172300e-04, 1.35099517e-05],\n",
       "       [3.68534785e-08, 1.27512001e-04, 5.53496275e-03, ...,\n",
       "        5.09063248e-03, 2.52049940e-04, 1.34053034e-05],\n",
       "       [3.70103521e-08, 1.28260741e-04, 5.54071087e-03, ...,\n",
       "        5.11948438e-03, 2.55550898e-04, 1.36508315e-05]], dtype=float32)"
      ]
     },
     "execution_count": 47,
     "metadata": {},
     "output_type": "execute_result"
    }
   ],
   "source": [
    "predict_imgs"
   ]
  },
  {
   "cell_type": "code",
   "execution_count": 48,
   "metadata": {},
   "outputs": [
    {
     "data": {
      "text/plain": [
       "array([[1.8012635, 0.       , 3.3261747, ..., 2.3082018, 3.507943 ,\n",
       "        2.5596309],\n",
       "       [1.804171 , 0.       , 3.3127534, ..., 2.309541 , 3.510421 ,\n",
       "        2.555829 ],\n",
       "       [1.8019018, 0.       , 3.3122947, ..., 2.3122237, 3.5072148,\n",
       "        2.5559216],\n",
       "       ...,\n",
       "       [1.8013264, 0.       , 3.3135915, ..., 2.3088164, 3.5076406,\n",
       "        2.5573835],\n",
       "       [1.8007274, 0.       , 3.3220186, ..., 2.312127 , 3.509466 ,\n",
       "        2.5569592],\n",
       "       [1.7990681, 0.       , 3.314056 , ..., 2.3130953, 3.50641  ,\n",
       "        2.5608697]], dtype=float32)"
      ]
     },
     "execution_count": 48,
     "metadata": {},
     "output_type": "execute_result"
    }
   ],
   "source": [
    "encoded_imgs"
   ]
  },
  {
   "cell_type": "code",
   "execution_count": 136,
   "metadata": {
    "scrolled": true
   },
   "outputs": [
    {
     "data": {
      "image/png": "[encoded data removed]",
      "text/plain": [
       "<Figure size 1080x216 with 1 Axes>"
      ]
     },
     "metadata": {
      "needs_background": "light"
     },
     "output_type": "display_data"
    }
   ],
   "source": [
    "scatter_plot(encoded_imgs, y, 'Autoencoder')"
   ]
  },
  {
   "cell_type": "code",
   "execution_count": 445,
   "metadata": {},
   "outputs": [
    {
     "data": {
      "text/plain": [
       "array([[0.0000000e+00, 0.0000000e+00, 7.6893506e-05, ..., 0.0000000e+00,\n",
       "        0.0000000e+00, 0.0000000e+00],\n",
       "       [0.0000000e+00, 0.0000000e+00, 0.0000000e+00, ..., 1.5378701e-04,\n",
       "        0.0000000e+00, 0.0000000e+00],\n",
       "       [0.0000000e+00, 0.0000000e+00, 0.0000000e+00, ..., 2.4605924e-04,\n",
       "        1.3840832e-04, 0.0000000e+00],\n",
       "       ...,\n",
       "       [0.0000000e+00, 0.0000000e+00, 1.5378702e-05, ..., 9.2272203e-05,\n",
       "        0.0000000e+00, 0.0000000e+00],\n",
       "       [0.0000000e+00, 0.0000000e+00, 3.0757405e-05, ..., 1.8454441e-04,\n",
       "        0.0000000e+00, 0.0000000e+00],\n",
       "       [0.0000000e+00, 0.0000000e+00, 1.5378701e-04, ..., 1.8454441e-04,\n",
       "        1.5378702e-05, 0.0000000e+00]], dtype=float32)"
      ]
     },
     "execution_count": 445,
     "metadata": {},
     "output_type": "execute_result"
    }
   ],
   "source": [
    "x_test"
   ]
  },
  {
   "cell_type": "code",
   "execution_count": 14,
   "metadata": {},
   "outputs": [],
   "source": [
    "def scatterplot(x, y, title):\n",
    "    dset = np.append(x,y.reshape([len(y),1]),axis=1)\n",
    "    df = pd.DataFrame(dset, columns=['C1','C2','T'])\n",
    "    df['T'] = df['T'].astype('str')\n",
    "    sns.scatterplot(x=\"C1\", y=\"C2\",\n",
    "                    palette=\"pastel\", linewidth=0,\n",
    "                    hue='T',\n",
    "                    data=df)"
   ]
  },
  {
   "cell_type": "code",
   "execution_count": 12,
   "metadata": {},
   "outputs": [],
   "source": [
    "from sklearn.manifold import TSNE"
   ]
  },
  {
   "cell_type": "code",
   "execution_count": 456,
   "metadata": {
    "scrolled": true
   },
   "outputs": [
    {
     "data": {
      "image/png": "[encoded data removed]",
      "text/plain": [
       "<Figure size 432x288 with 1 Axes>"
      ]
     },
     "metadata": {
      "needs_background": "light"
     },
     "output_type": "display_data"
    }
   ],
   "source": [
    "tSNE_x = TSNE(n_components=2).fit_transform(x_test)\n",
    "scatterplot(tSNE_x, y, 'tSNE')"
   ]
  },
  {
   "cell_type": "code",
   "execution_count": 50,
   "metadata": {},
   "outputs": [
    {
     "data": {
      "image/png": "[encoded data removed]",
      "text/plain": [
       "<Figure size 432x288 with 1 Axes>"
      ]
     },
     "metadata": {
      "needs_background": "light"
     },
     "output_type": "display_data"
    }
   ],
   "source": [
    "tSNE_x = TSNE(n_components=2).fit_transform(encoded_imgs)\n",
    "scatterplot(tSNE_x, y, 'tSNE')"
   ]
  },
  {
   "cell_type": "code",
   "execution_count": 30,
   "metadata": {},
   "outputs": [
    {
     "data": {
      "image/png": "[encoded data removed]",
      "text/plain": [
       "<Figure size 432x288 with 1 Axes>"
      ]
     },
     "metadata": {
      "needs_background": "light"
     },
     "output_type": "display_data"
    }
   ],
   "source": [
    "tSNE_x = TSNE(n_components=2).fit_transform(predict_imgs)\n",
    "scatterplot(tSNE_x, y, 'tSNE')"
   ]
  }
 ],
 "metadata": {
  "kernelspec": {
   "display_name": "Python 3",
   "language": "python",
   "name": "python3"
  },
  "language_info": {
   "codemirror_mode": {
    "name": "ipython",
    "version": 3
   },
   "file_extension": ".py",
   "mimetype": "text/x-python",
   "name": "python",
   "nbconvert_exporter": "python",
   "pygments_lexer": "ipython3",
   "version": "3.6.8"
  }
 },
 "nbformat": 4,
 "nbformat_minor": 4
}
